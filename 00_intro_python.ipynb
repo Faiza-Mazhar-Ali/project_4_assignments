{
  "cells": [
    {
      "cell_type": "markdown",
      "metadata": {
        "id": "view-in-github",
        "colab_type": "text"
      },
      "source": [
        "<a href=\"https://colab.research.google.com/github/Faiza-Mazhar-Ali/project_4_assignments/blob/main/00_intro_python.ipynb\" target=\"_parent\"><img src=\"https://colab.research.google.com/assets/colab-badge.svg\" alt=\"Open In Colab\"/></a>"
      ]
    },
    {
      "cell_type": "code",
      "execution_count": null,
      "metadata": {
        "colab": {
          "background_save": true
        },
        "id": "g5cFg8_12SKr",
        "outputId": "7a31b1af-c12f-4c0a-8a2e-6c67c40353c7"
      },
      "outputs": [
        {
          "name": "stdout",
          "output_type": "stream",
          "text": [
            "01_add_two_nuumbers\n",
            "This application is for add two numbers\n"
          ]
        }
      ],
      "source": [
        "#01_add_two_numbers.md\n",
        "print(\"01_add_two_nuumbers\")\n",
        "\n",
        "def add():\n",
        "  print(\"This application is for add two numbers\")\n",
        "  first_number = int(input(\"Enter your first number\"))\n",
        "  second_number = int(input(\"Enter your second number\"))\n",
        "  total = int(first_number + second_number)\n",
        "  print(f\"The totall sum of {first_number} and {second_number} is {total}.\")\n",
        "\n",
        "if __name__ == \"__main__\":\n",
        "  add()\n",
        "\n"
      ]
    },
    {
      "cell_type": "code",
      "execution_count": null,
      "metadata": {
        "id": "cWxYEMT1FQY9"
      },
      "outputs": [],
      "source": [
        "#02_agreement_bot.md\n",
        "def main():\n",
        "    # Ask the user for their favorite animal\n",
        "    animal = input(\"What's your favorite animal? \")\n",
        "\n",
        "    # Respond with the same animal\n",
        "    print(f\"My favorite animal is also {animal}!\")\n",
        "\n",
        "# Call the function directly\n",
        "main()\n"
      ]
    },
    {
      "cell_type": "code",
      "execution_count": null,
      "metadata": {
        "id": "EWKxXbu22TZm"
      },
      "outputs": [],
      "source": [
        "#03_fahrenheit_to_celsius.md\n",
        "def convert_temperature():\n",
        "    # Ask for temperature in Fahrenheit\n",
        "    degrees_fahrenheit = float(input(\"Enter temperature in Fahrenheit: \"))\n",
        "\n",
        "    # Convert to Celsius\n",
        "    degrees_celsius = (degrees_fahrenheit - 32) * 5.0 / 9.0\n",
        "\n",
        "    # Print the result\n",
        "    print(f\"Temperature: {degrees_fahrenheit}F = {degrees_celsius}C\")\n",
        "\n",
        "# Run the function directly in Google Colab\n",
        "convert_temperature()\n"
      ]
    },
    {
      "cell_type": "code",
      "source": [
        "#04_how_old_are_they.md\n",
        "\n",
        "def solve_age_riddle():\n",
        "    # Assign ages based on the problem statement\n",
        "    anton = 21\n",
        "    beth = anton + 6\n",
        "    chen = beth + 20\n",
        "    drew = chen + anton\n",
        "    ethan = chen\n",
        "\n",
        "    # Print the ages\n",
        "    print(f\"Anton is {anton}\")\n",
        "    print(f\"Beth is {beth}\")\n",
        "    print(f\"Chen is {chen}\")\n",
        "    print(f\"Drew is {drew}\")\n",
        "    print(f\"Ethan is {ethan}\")\n",
        "\n",
        "# Run the function directly in Google Colab\n",
        "solve_age_riddle()\n"
      ],
      "metadata": {
        "colab": {
          "base_uri": "https://localhost:8080/"
        },
        "id": "uQFZFhnzs55E",
        "outputId": "b2424ca8-23db-4e5c-c66b-deb865dbfb7c"
      },
      "execution_count": 2,
      "outputs": [
        {
          "output_type": "stream",
          "name": "stdout",
          "text": [
            "Anton is 21\n",
            "Beth is 27\n",
            "Chen is 47\n",
            "Drew is 68\n",
            "Ethan is 47\n"
          ]
        }
      ]
    },
    {
      "cell_type": "code",
      "source": [
        "#05_triangle_perimeter.md\n",
        "def calculate_perimeter():\n",
        "  # Get the 3 side lengths of the triangle\n",
        "  side1 = float(input(\"Enter the length of the first side: \"))\n",
        "  side2 = float(input(\"Enter the length of the second side: \"))\n",
        "  side3 = float(input(\"Enter the length of the third side: \"))\n",
        "\n",
        "  # Calculate and print the perimeter\n",
        "  perimeter = side1 + side2 + side3\n",
        "  print(f\"The perimeter of the triangle is {perimeter}.\")\n",
        "\n",
        "# Run the function directly in Google Colab\n",
        "calculate_perimeter()"
      ],
      "metadata": {
        "colab": {
          "base_uri": "https://localhost:8080/"
        },
        "id": "PduUldItxuGV",
        "outputId": "63b30275-ef47-40c5-df5b-9bfe746d93f7"
      },
      "execution_count": 3,
      "outputs": [
        {
          "output_type": "stream",
          "name": "stdout",
          "text": [
            "Enter the length of the first side: 2\n",
            "Enter the length of the second side: 2\n",
            "Enter the length of the third side: 3\n",
            "The perimeter of the triangle is 7.0.\n"
          ]
        }
      ]
    },
    {
      "cell_type": "code",
      "source": [
        "def square_number():\n",
        "    try:\n",
        "        # Get input from the user and convert it to float\n",
        "        number = float(input(\"Enter a number: \"))\n",
        "\n",
        "        # Calculate the square of the number\n",
        "        square = number ** 2\n",
        "\n",
        "        # Print the result\n",
        "        print(f\"The square of {number} is {square}.\")\n",
        "\n",
        "    except ValueError:\n",
        "        print(\"Invalid input! Please enter a valid number.\")\n",
        "\n",
        "# Call the function (No need for main guard in Google Colab)\n",
        "square_number()\n"
      ],
      "metadata": {
        "colab": {
          "base_uri": "https://localhost:8080/"
        },
        "id": "gKY4kGMgykaQ",
        "outputId": "ba2c962a-62de-4832-c976-87d21c2c5311"
      },
      "execution_count": 5,
      "outputs": [
        {
          "output_type": "stream",
          "name": "stdout",
          "text": [
            "Enter a number: 5\n",
            "The square of 5.0 is 25.0.\n"
          ]
        }
      ]
    },
    {
      "cell_type": "code",
      "execution_count": null,
      "metadata": {
        "id": "ALxejc3wRCas"
      },
      "outputs": [],
      "source": []
    }
  ],
  "metadata": {
    "colab": {
      "provenance": [],
      "authorship_tag": "ABX9TyMr2JY5XYnwAz0FsFbaHNi8",
      "include_colab_link": true
    },
    "kernelspec": {
      "display_name": "Python 3",
      "name": "python3"
    },
    "language_info": {
      "name": "python"
    }
  },
  "nbformat": 4,
  "nbformat_minor": 0
}