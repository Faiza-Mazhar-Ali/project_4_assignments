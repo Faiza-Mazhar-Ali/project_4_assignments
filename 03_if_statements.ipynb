{
  "nbformat": 4,
  "nbformat_minor": 0,
  "metadata": {
    "colab": {
      "provenance": [],
      "authorship_tag": "ABX9TyMJxAN2YhG4Rz2Rpd5zd+y0",
      "include_colab_link": true
    },
    "kernelspec": {
      "name": "python3",
      "display_name": "Python 3"
    },
    "language_info": {
      "name": "python"
    }
  },
  "cells": [
    {
      "cell_type": "markdown",
      "metadata": {
        "id": "view-in-github",
        "colab_type": "text"
      },
      "source": [
        "<a href=\"https://colab.research.google.com/github/Faiza-Mazhar-Ali/project_4_assignments/blob/main/03_if_statements.ipynb\" target=\"_parent\"><img src=\"https://colab.research.google.com/assets/colab-badge.svg\" alt=\"Open In Colab\"/></a>"
      ]
    },
    {
      "cell_type": "code",
      "execution_count": null,
      "metadata": {
        "id": "WP-Z3rVRs0B9"
      },
      "outputs": [],
      "source": [
        "#01_print_events.md\n",
        "\n",
        "def print_even_numbers(count):\n",
        "    \"\"\"\n",
        "    Prints the first `count` even numbers.\n",
        "    \"\"\"\n",
        "    num = 0\n",
        "    for _ in range(count):\n",
        "        print(num)\n",
        "        num += 2  # Increment by 2 to get the next even number\n",
        "\n",
        "def main():\n",
        "    total_even_numbers = 20  # Define the total number of even numbers to print\n",
        "    print_even_numbers(total_even_numbers)\n",
        "\n",
        "if __name__ == '__main__':\n",
        "    main()"
      ]
    },
    {
      "cell_type": "code",
      "source": [
        "#02_international_voting_age.md\n",
        "\n",
        "VOTING_AGES = {\n",
        "    \"Peturksbouipo\": 16,\n",
        "    \"Stanlau\": 25,\n",
        "    \"Mayengua\": 48\n",
        "}\n",
        "\n",
        "def check_voting_eligibility(age):\n",
        "    for country, voting_age in VOTING_AGES.items():\n",
        "        if age >= voting_age:\n",
        "            print(f\"You can vote in {country} where the voting age is {voting_age}.\")\n",
        "        else:\n",
        "            print(f\"You cannot vote in {country} where the voting age is {voting_age}.\")\n",
        "\n",
        "def main():\n",
        "    try:\n",
        "        user_age = int(input(\"How old are you? \"))\n",
        "        check_voting_eligibility(user_age)\n",
        "    except ValueError:\n",
        "        print(\"Please enter a valid number.\")\n",
        "\n",
        "if __name__ == '__main__':\n",
        "    main()\n",
        "\n"
      ],
      "metadata": {
        "id": "ujKzGjmJtXWz"
      },
      "execution_count": null,
      "outputs": []
    },
    {
      "cell_type": "code",
      "source": [
        "#03_leap_year.md\n",
        "\n",
        "def is_leap_year(year: int) -> bool:\n",
        "    \"\"\"Returns True if the given year is a leap year, otherwise False.\"\"\"\n",
        "    return (year % 4 == 0 and year % 100 != 0) or (year % 400 == 0)\n",
        "\n",
        "def main():\n",
        "    # Get the year from the user\n",
        "    year = int(input(\"Please input a year: \"))\n",
        "\n",
        "    # Check and print the result\n",
        "    if is_leap_year(year):\n",
        "        print(\"That's a leap year!\")\n",
        "    else:\n",
        "        print(\"That's not a leap year.\")\n",
        "\n",
        "# Run the program\n",
        "if __name__ == '__main__':\n",
        "    main()"
      ],
      "metadata": {
        "id": "3oivr0f4u-8B"
      },
      "execution_count": null,
      "outputs": []
    },
    {
      "cell_type": "code",
      "source": [
        "#04_tall_enough_to_ride.md\n",
        "MINIMUM_HEIGHT = 50  # Minimum height required to ride\n",
        "\n",
        "def main():\n",
        "    while True:\n",
        "        height_input = input(\"How tall are you? (Press Enter to exit): \").strip()\n",
        "\n",
        "        if not height_input:  # Exit if the user enters nothing\n",
        "            print(\"Goodbye!\")\n",
        "            break\n",
        "\n",
        "        try:\n",
        "            height = float(height_input)\n",
        "            if height >= MINIMUM_HEIGHT:\n",
        "                print(\"You're tall enough to ride!\")\n",
        "            else:\n",
        "                print(\"You're not tall enough to ride, but maybe next year!\")\n",
        "        except ValueError:\n",
        "            print(\"Please enter a valid number.\")\n",
        "\n",
        "# Run the program\n",
        "if __name__ == '__main__':\n",
        "    main()\n"
      ],
      "metadata": {
        "id": "miX-gen6w5v3"
      },
      "execution_count": null,
      "outputs": []
    },
    {
      "cell_type": "code",
      "source": [
        "#05_random_numbers.md\n",
        "import random\n",
        "\n",
        "N_NUMBERS = 10  # Number of random numbers to generate\n",
        "MIN_VALUE = 1   # Minimum value (inclusive)\n",
        "MAX_VALUE = 100 # Maximum value (inclusive)\n",
        "\n",
        "def main():\n",
        "    for _ in range(N_NUMBERS):  # Loop 10 times\n",
        "        print(random.randint(MIN_VALUE, MAX_VALUE))  # Generate and print a random number\n",
        "\n",
        "if __name__ == '__main__':\n",
        "    main()\n"
      ],
      "metadata": {
        "id": "9hg796Zl0dEf"
      },
      "execution_count": null,
      "outputs": []
    }
  ]
}