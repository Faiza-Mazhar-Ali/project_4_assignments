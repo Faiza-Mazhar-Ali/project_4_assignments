{
  "nbformat": 4,
  "nbformat_minor": 0,
  "metadata": {
    "colab": {
      "provenance": [],
      "authorship_tag": "ABX9TyOXUOQo6BnFmoEGiER1L+pU",
      "include_colab_link": true
    },
    "kernelspec": {
      "name": "python3",
      "display_name": "Python 3"
    },
    "language_info": {
      "name": "python"
    }
  },
  "cells": [
    {
      "cell_type": "markdown",
      "metadata": {
        "id": "view-in-github",
        "colab_type": "text"
      },
      "source": [
        "<a href=\"https://colab.research.google.com/github/Faiza-Mazhar-Ali/project_4_assignments/blob/main/01_expressions.ipynb\" target=\"_parent\"><img src=\"https://colab.research.google.com/assets/colab-badge.svg\" alt=\"Open In Colab\"/></a>"
      ]
    },
    {
      "cell_type": "code",
      "source": [
        "#01_dicesimulator.md\n",
        "import random\n",
        "print(\"01_dicesimulator\")\n",
        "\n",
        "def roll_dice():\n",
        "    dice1 = random.randint(1, 6)\n",
        "    dice2 = random.randint(1, 6)\n",
        "    total = dice1 + dice2\n",
        "    print(f\"Total of two dice: {total}\")\n",
        "\n",
        "def main():\n",
        "    die1: int = 10\n",
        "    print(\"die1 in main() starts as: \" + str(die1))\n",
        "    roll_dice()\n",
        "    roll_dice()\n",
        "    roll_dice()\n",
        "    print(\"die1 in main() ends as: \" + str(die1))\n",
        "\n",
        "if __name__ == \"__main__\":\n",
        "    main()\n"
      ],
      "metadata": {
        "id": "zB8U8MvdpZgz"
      },
      "execution_count": null,
      "outputs": []
    },
    {
      "cell_type": "code",
      "source": [
        "#02_e=mc2.md\n",
        "# Speed of light in meters per second (constant)\n",
        "C: int = 299792458\n",
        "\n",
        "def main():\n",
        "    # user input\n",
        "    mass_in_kg: float = float(input(\"Enter kilos of mass: \"))\n",
        "\n",
        "    # Calculate energy\n",
        "    energy_in_joules: float = mass_in_kg * (C ** 2)\n",
        "\n",
        "    print(\"\\ne = m * C^2...\")\n",
        "    print(f\"m = {mass_in_kg} kg\")\n",
        "    print(f\"C = {C} m/s\")\n",
        "    print(f\"{energy_in_joules:.2e} joules of energy!\")\n",
        "if __name__ == '__main__':\n",
        "    main()\n"
      ],
      "metadata": {
        "colab": {
          "base_uri": "https://localhost:8080/"
        },
        "id": "6kxrH5ah0IPZ",
        "outputId": "c0599262-89d8-4e1a-ff6e-23e50d52d3f5"
      },
      "execution_count": null,
      "outputs": [
        {
          "output_type": "stream",
          "name": "stdout",
          "text": [
            "Enter kilos of mass: 130\n",
            "\n",
            "e = m * C^2...\n",
            "m = 130.0 kg\n",
            "C = 299792458 m/s\n",
            "1.17e+19 joules of energy!\n"
          ]
        }
      ]
    },
    {
      "cell_type": "code",
      "source": [
        "\n",
        "#03_feet_to_inches.md\n",
        "print(\"03_feet_to_inches\")\n",
        "\n",
        "INCHES_IN_FOOT: int = 12  # Define the conversion factor\n",
        "\n",
        "def convert_feet_to_inches():\n",
        "    feet: int = int(input(\"Enter feet and I will convert it into inches: \"))  # Fixed typo\n",
        "    print(f\"There are {feet * INCHES_IN_FOOT} inches in {feet} feet.\")\n",
        "\n",
        "if __name__ == \"__main__\":\n",
        "    convert_feet_to_inches()"
      ],
      "metadata": {
        "id": "ZoaW6cWmL1T1",
        "colab": {
          "base_uri": "https://localhost:8080/"
        },
        "outputId": "9c95ac9b-c980-48c4-f383-34c2b3d584be"
      },
      "execution_count": 10,
      "outputs": [
        {
          "output_type": "stream",
          "name": "stdout",
          "text": [
            "03_feet_to_inches\n",
            "Enter feet and I will convert it into inches: 3\n",
            "There are 36 inches in 3 feet.\n"
          ]
        }
      ]
    },
    {
      "cell_type": "code",
      "source": [],
      "metadata": {
        "id": "dTTEHlR-dbQs"
      },
      "execution_count": null,
      "outputs": []
    },
    {
      "cell_type": "code",
      "source": [
        "#04_pythagorean_theorem.md\n",
        "import math\n",
        "\n",
        "print(\"04_pythagorean_theorem\")\n",
        "\n",
        "def pythagorean_theorem():\n",
        "    ab: float = float(input(\"Enter the length of side AB: \"))\n",
        "    ac: float = float(input(\"Enter the length of side AC: \"))\n",
        "    # Correct the hypotenuse calculation\n",
        "    bc: float = math.sqrt(ab**2 + ac**2)\n",
        "\n",
        "    print(f\"The length of BC (hypotenuse) is: {bc}\")\n",
        "\n",
        "if __name__ == \"__main__\":\n",
        "    pythagorean_theorem()\n"
      ],
      "metadata": {
        "colab": {
          "base_uri": "https://localhost:8080/"
        },
        "id": "_9PSAM16atxx",
        "outputId": "895826ac-87da-4b06-9554-b3c56cbf7f84"
      },
      "execution_count": 11,
      "outputs": [
        {
          "output_type": "stream",
          "name": "stdout",
          "text": [
            "04_pythagorean_theorem\n",
            "Enter the length of side AB: 45\n",
            "Enter the length of side AC: 5\n",
            "The length of BC (hypotenuse) is: 45.27692569068709\n"
          ]
        }
      ]
    },
    {
      "cell_type": "code",
      "source": [
        "#05_remainder_division.md\n",
        "print(\"05_remainder_division\")\n",
        "\n",
        "def remainder_division():\n",
        "    # Get input from user\n",
        "    dividend: int = int(input(\"Please enter an integer to be divided: \"))\n",
        "    divisor: int = int(input(\"Please enter an integer to divide by: \"))\n",
        "\n",
        "    # Perform integer division and find remainder\n",
        "    quotient: int = dividend // divisor  # Integer division\n",
        "    remainder: int = dividend % divisor  # Modulo operation\n",
        "\n",
        "    # Display the results\n",
        "    print(f\"The result of this division is {quotient} with a remainder of {remainder}\")\n",
        "\n",
        "if __name__ == \"__main__\":\n",
        "    remainder_division()\n",
        "\n"
      ],
      "metadata": {
        "colab": {
          "base_uri": "https://localhost:8080/"
        },
        "id": "UGduSNSWa46y",
        "outputId": "777c3678-aad9-42ff-b706-03ea02174591"
      },
      "execution_count": 12,
      "outputs": [
        {
          "output_type": "stream",
          "name": "stdout",
          "text": [
            "05_remainder_division\n",
            "Please enter an integer to be divided: 45\n",
            "Please enter an integer to divide by: 6\n",
            "The result of this division is 7 with a remainder of 3\n"
          ]
        }
      ]
    },
    {
      "cell_type": "code",
      "source": [
        "#06_rolldice.md\n",
        "import random\n",
        "\n",
        "print(\"06_dice_simulator\")\n",
        "\n",
        "def roll_dice():\n",
        "    # Generate two random numbers between 1 and 6 (inclusive)\n",
        "    dice1: int = random.randint(1, 6)\n",
        "    dice2: int = random.randint(1, 6)\n",
        "\n",
        "    # Calculate the total\n",
        "    total: int = dice1 + dice2\n",
        "\n",
        "    # Display the results\n",
        "    print(f\"Dice 1: {dice1}\")\n",
        "    print(f\"Dice 2: {dice2}\")\n",
        "    print(f\"Total of two dice: {total}\")\n",
        "\n",
        "if __name__ == \"__main__\":\n",
        "    roll_dice()\n"
      ],
      "metadata": {
        "id": "uXQTHAj-e0R_"
      },
      "execution_count": null,
      "outputs": []
    },
    {
      "cell_type": "code",
      "source": [
        "#06_seconds_in_year.md\n",
        "# Useful constants to help make the math easier and cleaner!\n",
        "DAYS_PER_YEAR: int = 365\n",
        "HOURS_PER_DAY: int = 24\n",
        "MINUTES_PER_HOUR: int = 60\n",
        "SECONDS_PER_MINUTE: int = 60\n",
        "\n",
        "def main():\n",
        "    # Calculate the number of seconds in a year\n",
        "    seconds_in_year: int = DAYS_PER_YEAR * HOURS_PER_DAY * MINUTES_PER_HOUR * SECONDS_PER_MINUTE\n",
        "\n",
        "    # Display the result in a clean format\n",
        "    print(f\"There are {seconds_in_year} seconds in a year!\")\n",
        "\n",
        "# This ensures the main function runs when the script is executed\n",
        "if __name__ == '__main__':\n",
        "    main()\n",
        "\n"
      ],
      "metadata": {
        "id": "TbaDpIMCills"
      },
      "execution_count": null,
      "outputs": []
    },
    {
      "cell_type": "code",
      "source": [
        "#07_tiny_mad_lib.md\n",
        "# Constant for the sentence start\n",
        "SENTENCE_START: str = \"Panaversity is fun. I learned to program and used Python to make my\"\n",
        "\n",
        "def main():\n",
        "    # Get the three inputs from the user\n",
        "    adjective: str = input(\"Please type an adjective and press enter: \")\n",
        "    noun: str = input(\"Please type a noun and press enter: \")\n",
        "    verb: str = input(\"Please type a verb and press enter: \")\n",
        "\n",
        "    # Print the final sentence using f-strings for better readability\n",
        "    print(f\"{SENTENCE_START} {adjective} {noun} {verb}!\")\n",
        "\n",
        "# Ensures the main function runs when the script is executed\n",
        "if __name__ == '__main__':\n",
        "    main()\n"
      ],
      "metadata": {
        "id": "Targ1ZHMk3-g"
      },
      "execution_count": null,
      "outputs": []
    }
  ]
}