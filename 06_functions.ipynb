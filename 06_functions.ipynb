{
  "cells": [
    {
      "cell_type": "markdown",
      "metadata": {
        "id": "view-in-github",
        "colab_type": "text"
      },
      "source": [
        "<a href=\"https://colab.research.google.com/github/Faiza-Mazhar-Ali/project_4_assignments/blob/main/06_functions.ipynb\" target=\"_parent\"><img src=\"https://colab.research.google.com/assets/colab-badge.svg\" alt=\"Open In Colab\"/></a>"
      ]
    },
    {
      "cell_type": "code",
      "execution_count": 1,
      "metadata": {
        "colab": {
          "base_uri": "https://localhost:8080/"
        },
        "id": "u64yi_-L1cnA",
        "outputId": "34ac239e-1026-4e0c-a7ba-f70c25dcf3ec"
      },
      "outputs": [
        {
          "output_type": "stream",
          "name": "stdout",
          "text": [
            "🔢 Average Calculator\n",
            "Enter the first number: 6\n",
            "Enter the second number: 6\n",
            "The average of 6.0 and 6.0 is: 6.0\n"
          ]
        }
      ],
      "source": [
        "#00_averages.md\n",
        "def average(a: float, b: float) -> float:\n",
        "    \"\"\"\n",
        "    Calculates and returns the average of two numbers.\n",
        "    \"\"\"\n",
        "    return (a + b) / 2\n",
        "\n",
        "def main():\n",
        "    print(\"🔢 Average Calculator\")\n",
        "\n",
        "    # Ask user for the first number\n",
        "    num1 = float(input(\"Enter the first number: \"))\n",
        "    # Ask user for the second number\n",
        "    num2 = float(input(\"Enter the second number: \"))\n",
        "\n",
        "    # Calculate the average using the function\n",
        "    result = average(num1, num2)\n",
        "\n",
        "    # Display the result\n",
        "    print(f\"The average of {num1} and {num2} is: {result}\")\n",
        "\n",
        "# This provided line is required at the end of the Python file\n",
        "if __name__ == '__main__':\n",
        "    main()\n",
        "\n"
      ]
    },
    {
      "cell_type": "code",
      "source": [
        "#01_chaotic_counting.md\n",
        "import random\n",
        "\n",
        "DONE_LIKELIHOOD = 0.3  # You can change this to make it stop sooner or later\n",
        "\n",
        "def chaotic_counting():\n",
        "    count = 1\n",
        "    while count <= 10:\n",
        "        if stop_now():\n",
        "            break  # Stop the loop early\n",
        "        print(count, end=' ')\n",
        "        count += 1\n",
        "\n",
        "def stop_now():\n",
        "    return random.random() < DONE_LIKELIHOOD\n",
        "\n",
        "def main():\n",
        "    print(\"I'm going to count until 10 or until I feel like stopping, whichever comes first.\")\n",
        "    chaotic_counting()\n",
        "    print(\"\\nI'm done\")\n",
        "\n",
        "if __name__ == '__main__':\n",
        "    main()\n"
      ],
      "metadata": {
        "colab": {
          "base_uri": "https://localhost:8080/"
        },
        "id": "OaAagYTWh3jZ",
        "outputId": "8bd9016d-6d7e-4dcc-f4b5-c88677b848e2"
      },
      "execution_count": 7,
      "outputs": [
        {
          "output_type": "stream",
          "name": "stdout",
          "text": [
            "I'm going to count until 10 or until I feel like stopping, whichever comes first.\n",
            "1 2 3 4 5 \n",
            "I'm done\n"
          ]
        }
      ]
    },
    {
      "cell_type": "code",
      "source": [
        "#02_count_even.md\n",
        "def count_even_numbers(numbers):\n",
        "    even_numbers = [num for num in numbers if num % 2 == 0]\n",
        "    print(len(even_numbers))\n",
        "\n",
        "def collect_integers():\n",
        "    entries = []\n",
        "    while True:\n",
        "        value = input(\"Enter an integer or press enter to stop: \")\n",
        "        if value == \"\":\n",
        "            break\n",
        "        try:\n",
        "            entries.append(int(value))\n",
        "        except ValueError:\n",
        "            print(\"Invalid input. Please enter an integer.\")\n",
        "    return entries\n",
        "\n",
        "def main():\n",
        "    values = collect_integers()\n",
        "    count_even_numbers(values)\n",
        "\n",
        "# Required line to run main\n",
        "if __name__ == '__main__':\n",
        "    main()\n",
        "\n"
      ],
      "metadata": {
        "colab": {
          "base_uri": "https://localhost:8080/"
        },
        "id": "b9hUp0hUkKMX",
        "outputId": "fd19524e-b79b-48db-d18e-1438ae31a813"
      },
      "execution_count": 1,
      "outputs": [
        {
          "output_type": "stream",
          "name": "stdout",
          "text": [
            "Enter an integer or press enter to stop: 6\n",
            "Enter an integer or press enter to stop: 8\n",
            "Enter an integer or press enter to stop: \n",
            "2\n"
          ]
        }
      ]
    },
    {
      "cell_type": "code",
      "source": [
        "#04_double.md\n",
        "def multiply_by_two(value: int):\n",
        "    return value * 2\n",
        "\n",
        "def main():\n",
        "    user_input = input(\"Enter a number: \")\n",
        "    try:\n",
        "        number = int(user_input)\n",
        "        result = multiply_by_two(number)\n",
        "        print(f\"Double that is {result}\")\n",
        "    except ValueError:\n",
        "        print(\"Please enter a valid integer.\")\n",
        "\n",
        "# This provided line is required at the end of the file\n",
        "if __name__ == '__main__':\n",
        "    main()\n",
        "\n"
      ],
      "metadata": {
        "colab": {
          "base_uri": "https://localhost:8080/"
        },
        "id": "wc1TD1sZ5O0T",
        "outputId": "2271745d-5e26-4c41-fdfc-6d51828c0651"
      },
      "execution_count": 2,
      "outputs": [
        {
          "output_type": "stream",
          "name": "stdout",
          "text": [
            "Enter a number: 6\n",
            "Double that is 12\n"
          ]
        }
      ]
    },
    {
      "cell_type": "code",
      "source": [
        "#05_get_name.md\n",
        "def fetch_name():\n",
        "    # Hardcoded return as required by the problem\n",
        "    name_str = \"Sophia\"\n",
        "    return name_str\n",
        "\n",
        "def main():\n",
        "    # Instead of directly calling inside print, store and print separately\n",
        "    my_name = fetch_name()\n",
        "    print(\"Howdy \" + my_name + \" ! 🤠\")\n",
        "\n",
        "# Standard Python entry point\n",
        "if __name__ == '__main__':\n",
        "    main()\n"
      ],
      "metadata": {
        "colab": {
          "base_uri": "https://localhost:8080/"
        },
        "id": "ZIQLusID_Lmz",
        "outputId": "7c06a336-9fbf-406e-aca4-894367e1d08e"
      },
      "execution_count": 1,
      "outputs": [
        {
          "output_type": "stream",
          "name": "stdout",
          "text": [
            "Howdy Sophia ! 🤠\n"
          ]
        }
      ]
    },
    {
      "cell_type": "code",
      "source": [
        "#06_is_odd.md\n",
        "def is_even(n):\n",
        "    return n % 2 == 0\n",
        "\n",
        "def print_even_odd():\n",
        "    for number in range(10, 20):\n",
        "        label = \"even\" if is_even(number) else \"odd\"\n",
        "        print(f\"{number} {label}\", end=\" \")\n",
        "\n",
        "def main():\n",
        "    print_even_odd()\n",
        "\n",
        "# Standard Python entry point\n",
        "if __name__ == '__main__':\n",
        "    main()\n"
      ],
      "metadata": {
        "colab": {
          "base_uri": "https://localhost:8080/"
        },
        "id": "8xZiKLdJlAfH",
        "outputId": "602c0a66-f308-4f65-cad7-db157a27149e"
      },
      "execution_count": 2,
      "outputs": [
        {
          "output_type": "stream",
          "name": "stdout",
          "text": [
            "10 even 11 odd 12 even 13 odd 14 even 15 odd 16 even 17 odd 18 even 19 odd "
          ]
        }
      ]
    },
    {
      "cell_type": "code",
      "source": [
        "#07_print_divisor.md\n",
        "def show_divisors(value):\n",
        "    print(f\"Here are the divisors of {value}\")\n",
        "    for divisor in range(1, value + 1):\n",
        "        if value % divisor == 0:\n",
        "            print(divisor)\n",
        "\n",
        "def main():\n",
        "    number = int(input(\"Enter a number: \"))\n",
        "    show_divisors(number)\n",
        "\n",
        "# Standard boilerplate\n",
        "if __name__ == '__main__':\n",
        "    main()\n"
      ],
      "metadata": {
        "colab": {
          "base_uri": "https://localhost:8080/"
        },
        "id": "761ZwX2amEaM",
        "outputId": "fee7bce6-604f-462b-a902-18ae84fb5b1b"
      },
      "execution_count": 3,
      "outputs": [
        {
          "output_type": "stream",
          "name": "stdout",
          "text": [
            "Enter a number: 5\n",
            "Here are the divisors of 5\n",
            "1\n",
            "5\n"
          ]
        }
      ]
    },
    {
      "cell_type": "code",
      "source": [
        "#08_print_multiple.md\n",
        "def repeat_message(text, times):\n",
        "    \"\"\"\n",
        "    Prints the given text `times` number of times.\n",
        "    \"\"\"\n",
        "    count = 0\n",
        "    while count < times:\n",
        "        print(text)\n",
        "        count += 1\n",
        "\n",
        "\n",
        "def main():\n",
        "    # Prompt for the message\n",
        "    message = input(\"Please type a message: \")\n",
        "\n",
        "    # Prompt for repeat count with validation\n",
        "    while True:\n",
        "        times_input = input(\"Enter a number of times to repeat your message: \")\n",
        "        try:\n",
        "            repeats = int(times_input)\n",
        "            if repeats < 0:\n",
        "                print(\"Please enter a non-negative integer.\")\n",
        "                continue\n",
        "            break\n",
        "        except ValueError:\n",
        "            print(\"Invalid input! Please enter a valid integer.\")\n",
        "\n",
        "    # Call the function to repeat the message\n",
        "    repeat_message(message, repeats)\n",
        "\n",
        "# Standard boilerplate\n",
        "if __name__ == '__main__':\n",
        "    main()\n",
        "\n"
      ],
      "metadata": {
        "colab": {
          "base_uri": "https://localhost:8080/"
        },
        "id": "ooosFe30m_3N",
        "outputId": "8904c24f-c0fe-40d7-891c-f668605f668d"
      },
      "execution_count": 5,
      "outputs": [
        {
          "output_type": "stream",
          "name": "stdout",
          "text": [
            "Please type a message: hello\n",
            "Enter a number of times to repeat your message: 4\n",
            "hello\n",
            "hello\n",
            "hello\n",
            "hello\n"
          ]
        }
      ]
    },
    {
      "cell_type": "code",
      "source": [
        "#09_sentence_generator.md\n",
        "def make_sentence(word: str, part_of_speech: int) -> None:\n",
        "    \"\"\"\n",
        "    Inserts the given word into a sentence template based on its part of speech.\n",
        "    part_of_speech: 0=noun, 1=verb, 2=adjective\n",
        "    \"\"\"\n",
        "    templates = {\n",
        "        0: f\"I’m always thrilled to add this {word} to my grand hoard!\",\n",
        "        1: f\"With weather this fine, I can’t help but {word} all day long!\",\n",
        "        2: f\"Gazing outside, I see the world looking quite {word} today!\"\n",
        "    }\n",
        "    # Print the chosen template, or an error if the code is out of range\n",
        "    print(templates.get(part_of_speech,\n",
        "          \"Error: please enter 0 (noun), 1 (verb), or 2 (adjective).\"))\n",
        "\n",
        "def main():\n",
        "    term = input(\"Enter a word (noun, verb or adjective): \").strip()\n",
        "    while True:\n",
        "        code = input(\"Type 0 for noun, 1 for verb, or 2 for adjective: \").strip()\n",
        "        if code in {\"0\", \"1\", \"2\"}:\n",
        "            part = int(code)\n",
        "            break\n",
        "        print(\"Invalid choice—please enter 0, 1, or 2.\")\n",
        "    make_sentence(term, part)\n",
        "\n",
        "if __name__ == '__main__':\n",
        "    main()\n"
      ],
      "metadata": {
        "id": "nAlMMENfpYPT"
      },
      "execution_count": null,
      "outputs": []
    },
    {
      "cell_type": "code",
      "source": [
        "#10_print_ones_digit.md\n",
        "def show_ones_digit(value: int) -> None:\n",
        "    \"\"\"\n",
        "    Prints the ones (units) digit of the given integer.\n",
        "    \"\"\"\n",
        "    digit = abs(value) % 10\n",
        "    print(f\"The one's digit of {value} is {digit}.\")\n",
        "\n",
        "def main():\n",
        "    user_input = input(\"Please enter an integer: \").strip()\n",
        "    try:\n",
        "        number = int(user_input)\n",
        "        show_ones_digit(number)\n",
        "    except ValueError:\n",
        "        print(\"Oops! That wasn’t an integer. Please try again.\")\n",
        "\n",
        "if __name__ == '__main__':\n",
        "    main()\n"
      ],
      "metadata": {
        "colab": {
          "base_uri": "https://localhost:8080/"
        },
        "id": "qLGoE7c0ruHK",
        "outputId": "54b6e823-7070-45d7-f767-7774728c32c4"
      },
      "execution_count": 8,
      "outputs": [
        {
          "output_type": "stream",
          "name": "stdout",
          "text": [
            "Please enter an integer: 5\n",
            "The one's digit of 5 is 5.\n"
          ]
        }
      ]
    }
  ],
  "metadata": {
    "colab": {
      "provenance": [],
      "authorship_tag": "ABX9TyPhOC4BcdOmKyDTwMyBikRo",
      "include_colab_link": true
    },
    "kernelspec": {
      "display_name": "Python 3",
      "name": "python3"
    },
    "language_info": {
      "name": "python"
    }
  },
  "nbformat": 4,
  "nbformat_minor": 0
}