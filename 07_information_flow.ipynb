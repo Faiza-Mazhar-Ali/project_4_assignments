{
  "nbformat": 4,
  "nbformat_minor": 0,
  "metadata": {
    "colab": {
      "provenance": [],
      "authorship_tag": "ABX9TyORM1vGtd/QWrpnb6HTlrUf",
      "include_colab_link": true
    },
    "kernelspec": {
      "name": "python3",
      "display_name": "Python 3"
    },
    "language_info": {
      "name": "python"
    }
  },
  "cells": [
    {
      "cell_type": "markdown",
      "metadata": {
        "id": "view-in-github",
        "colab_type": "text"
      },
      "source": [
        "<a href=\"https://colab.research.google.com/github/Faiza-Mazhar-Ali/project_4_assignments/blob/main/07_information_flow.ipynb\" target=\"_parent\"><img src=\"https://colab.research.google.com/assets/colab-badge.svg\" alt=\"Open In Colab\"/></a>"
      ]
    },
    {
      "cell_type": "code",
      "execution_count": null,
      "metadata": {
        "id": "OOkDo9CbtllY"
      },
      "outputs": [],
      "source": [
        "#00_choosing_returns.md\n",
        "MIN_ADULT_AGE = 18  # Legal adult age in the U.S.\n",
        "\n",
        "def check_adult_status(age: int) -> bool:\n",
        "    \"\"\"\n",
        "    Returns True if `age` meets or exceeds MIN_ADULT_AGE, otherwise False.\n",
        "    \"\"\"\n",
        "    return age >= MIN_ADULT_AGE\n",
        "\n",
        "def main():\n",
        "    user_input = input(\"How old is this person?: \").strip()\n",
        "    try:\n",
        "        person_age = int(user_input)\n",
        "    except ValueError:\n",
        "        print(\"Invalid age. Please enter a whole number.\")\n",
        "        return\n",
        "\n",
        "    is_adult = check_adult_status(person_age)\n",
        "    print(is_adult)\n",
        "\n",
        "if __name__ == \"__main__\":\n",
        "    main()\n"
      ]
    },
    {
      "cell_type": "code",
      "source": [
        "#01_greetings.md\n",
        "def greet(person_name: str) -> None:\n",
        "    \"\"\"\n",
        "    Prints a personalized greeting for the given name.\n",
        "    \"\"\"\n",
        "    print(f\"Hello there, {person_name}! Welcome aboard.\")\n",
        "\n",
        "\n",
        "def main():\n",
        "    # Prompt the user for their name\n",
        "    name = input(\"What's your name? \").strip()\n",
        "    # Call the greeting helper\n",
        "    greet(name)\n",
        "\n",
        "if __name__ == '__main__':\n",
        "    main()\n"
      ],
      "metadata": {
        "colab": {
          "base_uri": "https://localhost:8080/"
        },
        "id": "9Ahkj5CYu2CJ",
        "outputId": "7257d025-01fb-424a-8ee7-1892859188ca"
      },
      "execution_count": 3,
      "outputs": [
        {
          "output_type": "stream",
          "name": "stdout",
          "text": [
            "What's your name? Faiza\n",
            "Hello there, Faiza! Welcome aboard.\n"
          ]
        }
      ]
    },
    {
      "cell_type": "code",
      "source": [
        "#02_in_range.md\n",
        "def in_range(n: int, low: int, high: int) -> bool:\n",
        "    \"\"\"\n",
        "    Determine if `n` falls within the range [low, high], inclusive.\n",
        "    :param n: number to test\n",
        "    :param low: lower bound\n",
        "    :param high: upper bound (guaranteed >= low)\n",
        "    :return: True if n is between low and high (inclusive), False otherwise\n",
        "    \"\"\"\n",
        "    return low <= n <= high\n",
        "\n",
        "\n",
        "def main():\n",
        "    # Ask the user for the number to test and the bounds\n",
        "    try:\n",
        "        number = int(input(\"Enter a number to test: \"))\n",
        "        lower_bound = int(input(\"Enter the lower bound: \"))\n",
        "        upper_bound = int(input(\"Enter the upper bound: \"))\n",
        "    except ValueError:\n",
        "        print(\"Invalid input! Please enter integer values.\")\n",
        "        return\n",
        "\n",
        "    # Use the helper function and display the appropriate message\n",
        "    if in_range(number, lower_bound, upper_bound):\n",
        "        print(f\"{number} is within the range {lower_bound} to {upper_bound}, inclusive.\")\n",
        "    else:\n",
        "        print(f\"{number} is outside the range {lower_bound} to {upper_bound}.\")\n",
        "\n",
        "# Boilerplate to call main()\n",
        "if __name__ == '__main__':\n",
        "    main()\n"
      ],
      "metadata": {
        "id": "_Axxdrm5wRgK"
      },
      "execution_count": null,
      "outputs": []
    },
    {
      "cell_type": "code",
      "source": [
        "#03_in_stock.md\n",
        "def check_inventory(item):\n",
        "    \"\"\"\n",
        "    Looks up inventory count for a given fruit name.\n",
        "    \"\"\"\n",
        "    inventory = {\n",
        "        'apple': 2,\n",
        "        'durian': 4,\n",
        "        'pear': 1000\n",
        "    }\n",
        "    return inventory.get(item.lower(), 0)\n",
        "\n",
        "def main():\n",
        "    fruit = input(\"Which fruit are you looking for? \")\n",
        "    available = check_inventory(fruit)\n",
        "\n",
        "    if available > 0:\n",
        "        print(f\"Yes! We currently have {available} {fruit}(s) available.\")\n",
        "    else:\n",
        "        print(\"Sorry, we don't have that fruit in stock right now.\")\n",
        "\n",
        "if __name__ == '__main__':\n",
        "    main()\n"
      ],
      "metadata": {
        "colab": {
          "base_uri": "https://localhost:8080/"
        },
        "id": "4pNcKdWyxheh",
        "outputId": "6d065018-6ef1-4b25-f4f6-86f7c89a9476"
      },
      "execution_count": 6,
      "outputs": [
        {
          "output_type": "stream",
          "name": "stdout",
          "text": [
            "Which fruit are you looking for? Apple\n",
            "Yes! We currently have 2 Apple(s) available.\n"
          ]
        }
      ]
    },
    {
      "cell_type": "code",
      "source": [
        "#04_multiple_returns.md\n",
        "def collect_signup_info():\n",
        "    \"\"\"\n",
        "    Gathers the user's sign-up details and returns them as a tuple.\n",
        "    \"\"\"\n",
        "    fname = input(\"Enter your first name: \")\n",
        "    lname = input(\"Enter your last name: \")\n",
        "    email = input(\"Enter your email ID: \")\n",
        "\n",
        "    return fname, lname, email\n",
        "\n",
        "def main():\n",
        "    profile = collect_signup_info()\n",
        "    print(\"User registration details captured:\", profile)\n",
        "\n",
        "if __name__ == '__main__':\n",
        "    main()\n"
      ],
      "metadata": {
        "colab": {
          "base_uri": "https://localhost:8080/"
        },
        "id": "c9JJplXFzep7",
        "outputId": "dbf5f186-64ef-4e86-ff63-d1fa16976b6b"
      },
      "execution_count": 7,
      "outputs": [
        {
          "output_type": "stream",
          "name": "stdout",
          "text": [
            "Enter your first name: Faiza\n",
            "Enter your last name: Mazhar\n",
            "Enter your email ID: FaizaMzharAli\n",
            "User registration details captured: ('Faiza', 'Mazhar', 'FaizaMzharAli')\n"
          ]
        }
      ]
    },
    {
      "cell_type": "code",
      "source": [
        "#05_subtract_7.md\n",
        "def reduce_by_seven(value):\n",
        "    \"\"\"\n",
        "    Decreases the given number by 7 and returns the result.\n",
        "    \"\"\"\n",
        "    return value - 7\n",
        "\n",
        "def main():\n",
        "    original_number = 14\n",
        "    result = reduce_by_seven(original_number)\n",
        "    print(\"After subtracting 7, the result is:\", result)\n",
        "\n",
        "if __name__ == '__main__':\n",
        "    main()\n"
      ],
      "metadata": {
        "colab": {
          "base_uri": "https://localhost:8080/"
        },
        "id": "0Mj4oPS60HXh",
        "outputId": "1bafc6d0-6122-4c29-e52c-879c7c9ea004"
      },
      "execution_count": 9,
      "outputs": [
        {
          "output_type": "stream",
          "name": "stdout",
          "text": [
            "After subtracting 7, the result is: 7\n"
          ]
        }
      ]
    }
  ]
}