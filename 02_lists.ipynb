{
  "nbformat": 4,
  "nbformat_minor": 0,
  "metadata": {
    "colab": {
      "provenance": [],
      "authorship_tag": "ABX9TyOTtZRCae/sBKYn6VI5iUxW",
      "include_colab_link": true
    },
    "kernelspec": {
      "name": "python3",
      "display_name": "Python 3"
    },
    "language_info": {
      "name": "python"
    }
  },
  "cells": [
    {
      "cell_type": "markdown",
      "metadata": {
        "id": "view-in-github",
        "colab_type": "text"
      },
      "source": [
        "<a href=\"https://colab.research.google.com/github/Faiza-Mazhar-Ali/project_4_assignments/blob/main/02_lists.ipynb\" target=\"_parent\"><img src=\"https://colab.research.google.com/assets/colab-badge.svg\" alt=\"Open In Colab\"/></a>"
      ]
    },
    {
      "cell_type": "code",
      "execution_count": null,
      "metadata": {
        "id": "HDGR3yNlpWQp"
      },
      "outputs": [],
      "source": [
        "#01_add_many_number.md\n",
        "print(\"🔢 Welcome to the Number Adder! 🔢\\n\")\n",
        "\n",
        "def sum_of_list(numbers: list[int]) -> int:\n",
        "    \"\"\"Returns the sum of a list of numbers using the built-in sum() function.\"\"\"\n",
        "    return sum(numbers)\n",
        "\n",
        "def main():\n",
        "    numbers: list[int] = [1, 2, 3, 4, 5]  # Define a sample list\n",
        "    total: int = sum_of_list(numbers)  # Calculate the sum\n",
        "    print(f\"📊 The sum of {numbers} is ➝ {total} 🎯\")  # Enhanced output\n",
        "\n",
        "if __name__ == \"__main__\":\n",
        "    main()\n"
      ]
    },
    {
      "cell_type": "code",
      "source": [
        "#02_double_list.md\n",
        "print(\"🔢 Welcome to the List Doubler! 🔢\\n\")\n",
        "\n",
        "def double_elements(nums: list[int]) -> list[int]:\n",
        "    \"\"\"Returns a new list with each element doubled.\"\"\"\n",
        "    return [num * 2 for num in nums]  # More Pythonic way to double each element\n",
        "\n",
        "def main():\n",
        "    numbers: list[int] = [1, 2, 3, 4]  # Define a sample list\n",
        "    doubled_numbers: list[int] = double_elements(numbers)  # Get the doubled list\n",
        "    print(f\"🎯 Original: {numbers}\\n🚀 Doubled: {doubled_numbers}\")  # Enhanced output\n",
        "\n",
        "if __name__ == \"__main__\":\n",
        "    main()\n"
      ],
      "metadata": {
        "id": "s8EDnAxbxEAw"
      },
      "execution_count": null,
      "outputs": []
    },
    {
      "cell_type": "code",
      "source": [
        "#04_flowing_with_data_structures.md\n",
        "print(\"🔢 Welcome to the Data Flowing! 🔢\\n\")\n",
        "\n",
        "def add_three_copies(my_list, data):\n",
        "    for i in range(3):\n",
        "        my_list.append(data)\n",
        "\n",
        "def main():\n",
        "    message = input(\"Enter a message to copy: \")\n",
        "    my_list = []\n",
        "    print(\"List before:\", my_list)\n",
        "    add_three_copies(my_list, message)\n",
        "    print(\"List after:\", my_list)\n",
        "\n",
        "if __name__ == \"__main__\":\n",
        "    main()\n",
        "\n"
      ],
      "metadata": {
        "id": "Gv89dTrhyNkl"
      },
      "execution_count": null,
      "outputs": []
    },
    {
      "cell_type": "code",
      "source": [
        "#05_get_first_element.md\n",
        "print(\"🔢 Welcome to the First Element Finder! 🔢\\n\")\n",
        "\n",
        "def show_first_item(data_list):\n",
        "    \"\"\"\n",
        "    Displays the first item from the given list.\n",
        "    \"\"\"\n",
        "    print(\"The first item is:\", data_list[0])\n",
        "\n",
        "def gather_inputs():\n",
        "    \"\"\"\n",
        "    Collects user input to create a list, stopping when the user enters nothing.\n",
        "    \"\"\"\n",
        "    elements = []\n",
        "    while True:\n",
        "        entry = input(\"Enter a value (press Enter to stop): \")\n",
        "        if not entry:\n",
        "            break\n",
        "        elements.append(entry)\n",
        "    return elements\n",
        "\n",
        "def main():\n",
        "    user_data = gather_inputs()\n",
        "    show_first_item(user_data)\n",
        "\n",
        "if __name__ == \"__main__\":\n",
        "    main()\n",
        "\n"
      ],
      "metadata": {
        "id": "mqsGV3nlSe1I"
      },
      "execution_count": null,
      "outputs": []
    },
    {
      "cell_type": "code",
      "source": [
        "#06_get_last_element.md\n",
        "def get_last_element(lst):\n",
        "    \"\"\"\n",
        "    Prints the last element of a provided list.\n",
        "    \"\"\"\n",
        "    print(f\"The last item is: {lst[-1]}\")  # Directly access the last element\n",
        "\n",
        "def get_list_from_user():\n",
        "    \"\"\"\n",
        "    Collects a list of elements from the user until they press Enter.\n",
        "    \"\"\"\n",
        "    lst = []\n",
        "    while True:\n",
        "        elem = input(\"Enter a value (press Enter to stop): \")\n",
        "        if elem == \"\":\n",
        "            break  # Stop input when the user presses Enter\n",
        "        lst.append(elem)\n",
        "    return lst\n",
        "\n",
        "def main():\n",
        "    user_list = get_list_from_user()\n",
        "    get_last_element(user_list)\n",
        "\n",
        "if __name__ == '__main__':\n",
        "    main()\n"
      ],
      "metadata": {
        "id": "_TtqQeYDUYcS"
      },
      "execution_count": null,
      "outputs": []
    },
    {
      "cell_type": "code",
      "source": [
        "#07_get_list.md\n",
        "def collect_values():\n",
        "    \"\"\"\n",
        "    Collects values from the user until they press Enter, then returns the list.\n",
        "    \"\"\"\n",
        "    values = []\n",
        "    while True:\n",
        "        user_input = input(\"Enter a value (or press Enter to finish): \")\n",
        "        if user_input == \"\":  # Stop when the user presses Enter without input\n",
        "            break\n",
        "        values.append(user_input)  # Add input to the list\n",
        "    return values\n",
        "\n",
        "def main():\n",
        "    user_list = collect_values()\n",
        "    print(\"Here is your list:\", user_list)\n",
        "\n",
        "if __name__ == '__main__':\n",
        "    main()\n"
      ],
      "metadata": {
        "id": "6sxxldQNqlWo"
      },
      "execution_count": null,
      "outputs": []
    },
    {
      "cell_type": "code",
      "source": [
        "#08_shorten.md\n",
        "MAX_LENGTH = 3  # Define the maximum allowed length of the list\n",
        "\n",
        "def shorten_list(lst):\n",
        "    \"\"\"\n",
        "    Removes elements from the end of lst until its length is MAX_LENGTH.\n",
        "    Prints each removed element.\n",
        "    \"\"\"\n",
        "    while len(lst) > MAX_LENGTH:\n",
        "        removed_item = lst.pop()\n",
        "        print(f\"Removed: {removed_item}\")\n",
        "\n",
        "def collect_input():\n",
        "    \"\"\"\n",
        "    Collects user input to create a list.\n",
        "    \"\"\"\n",
        "    user_list = []\n",
        "    while True:\n",
        "        item = input(\"Enter an element (or press Enter to stop): \")\n",
        "        if not item:\n",
        "            break\n",
        "        user_list.append(item)\n",
        "    return user_list\n",
        "\n",
        "def main():\n",
        "    user_list = collect_input()\n",
        "    shorten_list(user_list)\n",
        "    print(\"Final list:\", user_list)  # Display the modified list\n",
        "\n",
        "if __name__ == '__main__':\n",
        "    main()\n"
      ],
      "metadata": {
        "id": "2LKByutwy2rl"
      },
      "execution_count": null,
      "outputs": []
    }
  ]
}