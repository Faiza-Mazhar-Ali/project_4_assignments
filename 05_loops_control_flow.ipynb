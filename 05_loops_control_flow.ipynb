{
  "cells": [
    {
      "cell_type": "markdown",
      "metadata": {
        "id": "view-in-github",
        "colab_type": "text"
      },
      "source": [
        "<a href=\"https://colab.research.google.com/github/Faiza-Mazhar-Ali/project_4_assignments/blob/main/05_loops_control_flow.ipynb\" target=\"_parent\"><img src=\"https://colab.research.google.com/assets/colab-badge.svg\" alt=\"Open In Colab\"/></a>"
      ]
    },
    {
      "cell_type": "code",
      "execution_count": null,
      "metadata": {
        "colab": {
          "background_save": true
        },
        "id": "zsWOt2BKMY9-",
        "outputId": "759d3710-d5c3-4416-d703-3f803d76d8d4"
      },
      "outputs": [
        {
          "name": "stdout",
          "output_type": "stream",
          "text": [
            "🔢 I'm thinking of a number between 1 and 99... Can you guess it?\n",
            "📉 Too low! Try again.\n",
            "\n",
            "📈 Too high! Try again.\n",
            "\n",
            "📈 Too high! Try again.\n",
            "\n",
            "📈 Too high! Try again.\n",
            "\n"
          ]
        }
      ],
      "source": [
        "#00_guess_my_number.md\n",
        "import random\n",
        "\n",
        "def main():\n",
        "    number_to_guess = random.randint(1, 99)\n",
        "    print(\"🔢 I'm thinking of a number between 1 and 99... Can you guess it?\")\n",
        "\n",
        "    while True:\n",
        "        try:\n",
        "            user_input = int(input(\"➡️ Your guess: \"))\n",
        "        except ValueError:\n",
        "            print(\"❗ Please enter a valid number!\")\n",
        "            continue\n",
        "\n",
        "        if user_input == number_to_guess:\n",
        "            print(f\"🎉 Correct! The number was: {number_to_guess}\")\n",
        "            break\n",
        "        elif user_input < number_to_guess:\n",
        "            print(\"📉 Too low! Try again.\")\n",
        "        else:\n",
        "            print(\"📈 Too high! Try again.\")\n",
        "\n",
        "        print()  # Blank line for cleaner formatting\n",
        "\n",
        "if __name__ == '__main__':\n",
        "    main()\n",
        "\n"
      ]
    },
    {
      "cell_type": "code",
      "execution_count": null,
      "metadata": {
        "id": "WkfIpQy7QxJR"
      },
      "outputs": [],
      "source": [
        "#01_fibonacci.md\n",
        "MAX_VALUE = 10000  # Constant\n",
        "\n",
        "def main():\n",
        "    a, b = 0, 1\n",
        "    while a < MAX_VALUE:\n",
        "        print(a, end=' ')\n",
        "        a, b = b, a + b\n",
        "\n",
        "if __name__ == '__main__':\n",
        "    main()\n",
        "\n"
      ]
    },
    {
      "cell_type": "code",
      "execution_count": null,
      "metadata": {
        "id": "Sb9umuRxfVmZ"
      },
      "outputs": [],
      "source": [
        "#02_print_events.md\n",
        "def main():\n",
        "    for i in range(20):\n",
        "        print(i * 2, end=' ')  # Print all numbers on the same line with a space\n",
        "\n",
        "# Required to call the main function\n",
        "if __name__ == '__main__':\n",
        "    main()\n"
      ]
    },
    {
      "cell_type": "code",
      "source": [
        "#03_wholesome_machine.md\n",
        "AFFIRMATION: str = \"I am capable of doing anything I put my mind to.\"\n",
        "\n",
        "def main():\n",
        "    print(\"Please type the following affirmation: \" + AFFIRMATION)\n",
        "\n",
        "    user_input = input()\n",
        "\n",
        "    while user_input != AFFIRMATION:\n",
        "        print(\"That was not the affirmation.\")\n",
        "        print(\"Please type the following affirmation: \" + AFFIRMATION)\n",
        "        user_input = input()\n",
        "\n",
        "    print(\"That's right! :)\")\n",
        "\n",
        "# Required to run main function\n",
        "if __name__ == '__main__':\n",
        "    main()\n"
      ],
      "metadata": {
        "id": "TGGL1yd0NXoC"
      },
      "execution_count": null,
      "outputs": []
    },
    {
      "cell_type": "code",
      "source": [
        "#04_liftoff.md\n",
        "def main():\n",
        "    # Countdown from 10 to 1 using a for loop and range\n",
        "    for i in range(10, 0, -1):  # start=10, stop=0 (exclusive), step=-1\n",
        "        print(i, end=' ')\n",
        "\n",
        "    # After countdown ends, print Liftoff!\n",
        "    print(\"Liftoff!\")\n",
        "\n",
        "# Required line to run main()\n",
        "if __name__ == '__main__':\n",
        "    main()\n"
      ],
      "metadata": {
        "id": "BfFdpiXtrUa0"
      },
      "execution_count": null,
      "outputs": []
    },
    {
      "cell_type": "code",
      "source": [
        "#05_double_it.md\n",
        "def main():\n",
        "    # Ask the user to enter a number\n",
        "    curr_value = int(input(\"Enter a number: \"))\n",
        "\n",
        "    # Continue doubling and printing until the value is 100 or more\n",
        "    while curr_value < 100:\n",
        "        curr_value = curr_value * 2\n",
        "        print(curr_value, end=' ')\n",
        "\n",
        "# This line ensures the main function runs\n",
        "if __name__ == '__main__':\n",
        "    main()\n"
      ],
      "metadata": {
        "colab": {
          "base_uri": "https://localhost:8080/"
        },
        "id": "F9rmq6BexTch",
        "outputId": "af5ad004-6c1b-49bd-a7f1-e48b3f896497"
      },
      "execution_count": 3,
      "outputs": [
        {
          "output_type": "stream",
          "name": "stdout",
          "text": [
            "Enter a number: 5\n",
            "10 20 40 80 160 "
          ]
        }
      ]
    }
  ],
  "metadata": {
    "colab": {
      "provenance": [],
      "authorship_tag": "ABX9TyMfk7EWmuTNIzs9DSF069KF",
      "include_colab_link": true
    },
    "kernelspec": {
      "display_name": "Python 3",
      "name": "python3"
    },
    "language_info": {
      "name": "python"
    }
  },
  "nbformat": 4,
  "nbformat_minor": 0
}